{
  "nbformat": 4,
  "nbformat_minor": 0,
  "metadata": {
    "colab": {
      "provenance": []
    },
    "kernelspec": {
      "name": "python3",
      "display_name": "Python 3"
    },
    "language_info": {
      "name": "python"
    }
  },
  "cells": [
    {
      "cell_type": "code",
      "execution_count": 31,
      "metadata": {
        "id": "4b0zic0CHfJA"
      },
      "outputs": [],
      "source": [
        "import pandas as pd\n",
        "import numpy as np\n",
        "import statistics as sts"
      ]
    },
    {
      "cell_type": "code",
      "source": [
        "l = [10, 9, 5, 6, 3, 2, 6, 5]\n",
        "def media (lista) -> float:\n",
        "  soma = 0\n",
        "  for i in range(0, len(lista)):\n",
        "    soma += lista[i]\n",
        "  r = soma / len(lista)\n",
        "  return r\n",
        "\n",
        "print(media(l))"
      ],
      "metadata": {
        "colab": {
          "base_uri": "https://localhost:8080/"
        },
        "id": "3XFdDrdyIV3U",
        "outputId": "d67226d9-d44b-418e-fd05-722685058b77"
      },
      "execution_count": 33,
      "outputs": [
        {
          "output_type": "stream",
          "name": "stdout",
          "text": [
            "5.75\n"
          ]
        }
      ]
    },
    {
      "cell_type": "code",
      "source": [
        "l.sort()\n",
        "print(l)\n",
        "np.median(l)"
      ],
      "metadata": {
        "colab": {
          "base_uri": "https://localhost:8080/"
        },
        "id": "qBf7g8V9NJ5b",
        "outputId": "e7fa3c81-d89d-41d2-a990-24a1967fe5d0"
      },
      "execution_count": 34,
      "outputs": [
        {
          "output_type": "stream",
          "name": "stdout",
          "text": [
            "[2, 3, 5, 5, 6, 6, 9, 10]\n"
          ]
        },
        {
          "output_type": "execute_result",
          "data": {
            "text/plain": [
              "5.5"
            ]
          },
          "metadata": {},
          "execution_count": 34
        }
      ]
    },
    {
      "cell_type": "code",
      "source": [
        "np.var(l)"
      ],
      "metadata": {
        "colab": {
          "base_uri": "https://localhost:8080/"
        },
        "id": "leDgUDbLRwFT",
        "outputId": "9f0bcb8d-454f-48f1-dbfd-bb0e086729eb"
      },
      "execution_count": 35,
      "outputs": [
        {
          "output_type": "execute_result",
          "data": {
            "text/plain": [
              "6.4375"
            ]
          },
          "metadata": {},
          "execution_count": 35
        }
      ]
    }
  ]
}